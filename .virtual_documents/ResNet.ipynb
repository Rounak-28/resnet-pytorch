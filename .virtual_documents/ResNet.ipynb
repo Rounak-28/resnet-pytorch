import torch
import torch.nn as nn
import torch.nn.functional as F
import torchvision.transforms as transforms
from torchvision import datasets
import matplotlib.pyplot as plt
from sklearn.metrics import accuracy_score


data_path = './data'
cifar10 = datasets.CIFAR10(data_path, train=True, download=True, transform=transforms.ToTensor())
cifar10_val = datasets.CIFAR10(data_path, train=False, download=True, transform=transforms.ToTensor())


cifar10


device = "cuda" if torch.cuda.is_available() else "cpu"
# device = "cpu"
print(f"Using {device} device")


X_train = torch.stack([img for img, _ in cifar10]).to(device)
X_val = torch.stack([img for img, _ in cifar10_val]).to(device)


y_train = torch.tensor([_ for img, _ in cifar10]).to(device)
y_val = torch.tensor([_ for img, _ in cifar10_val]).to(device)


print(X_train.shape, y_train.shape)
print(X_val.shape, y_val.shape)


# ##############################
#  score - 0.6176             #
# ##############################
class Net(nn.Module):
    def __init__(self):
        super().__init__()
        self.layers = nn.Sequential(
            nn.Conv2d(3, 6, 5),
            nn.ReLU(),
            nn.MaxPool2d(2, 2),
            nn.Conv2d(6, 16, 5),
            nn.ReLU(),
            nn.MaxPool2d(2, 2),
            nn.Flatten(),
            nn.Linear(16 * 5 * 5, 120),
            nn.ReLU(),
            nn.Linear(120, 84),
            nn.ReLU(),
            nn.Linear(84, 10)
        )

    def forward(self, x):
        x = self.layers(x)
        return x


###############################
#  score - 0.7737             #
###############################
class PlainResNet(nn.Module):

    def __init__(self):
        super().__init__()

        self.conv1 = nn.Conv2d(3, 64, 7, 2, padding=1)
        self.conv2 = nn.Conv2d(64, 64, 3, padding=1)
        self.conv3_first = nn.Conv2d(64, 128, 3, 2, padding=1)
        self.conv3 = nn.Conv2d(128, 128, 3, padding=1)
        self.conv4_first = nn.Conv2d(128, 256, 3, 2, padding=1)
        self.conv4 = nn.Conv2d(256, 256, 3, padding=1)
        self.conv5_first = nn.Conv2d(256, 512, 3, 2, padding=1)
        self.conv5 = nn.Conv2d(512, 512, 3, padding=1)

        self.maxpool = nn.MaxPool2d(3, 2, 1)
        self.avgpool = nn.AvgPool2d(3, 2, 1)

        self.flatten = nn.Flatten()

        self.bn1 = nn.BatchNorm2d(64)
        self.bn2 = nn.BatchNorm2d(128)
        self.bn3 = nn.BatchNorm2d(256)
        self.bn4 = nn.BatchNorm2d(512)

        self.fc1 = nn.Linear(512, 10)

    def forward(self, x):
        # maybe bathcnorm will improve model? yesss!!!!
        x = F.relu(self.bn1(self.conv1(x)))
        x = F.relu(self.maxpool(x))
        x = F.relu(self.bn1(self.conv2(x)))
        x = F.relu(self.bn2(self.conv3_first(x)))
        x = F.relu(self.bn2(self.conv3(x)))
        x = F.relu(self.bn3(self.conv4_first(x)))
        x = F.relu(self.bn3(self.conv4(x)))
        x = F.relu(self.bn4(self.conv5_first(x)))
        x = F.relu(self.bn4(self.conv5(x)))
        x = F.relu(self.avgpool(x))
        x = self.flatten(x)
        x = self.fc1(x)
        return x


###############################
#  score - 0.3052             #
###############################
class PlainResNet34Layer(nn.Module):

    def __init__(self):
        super().__init__()

        self.conv1 = nn.Conv2d(3, 64, 7, 2, padding=1)
        self.conv2 = nn.Conv2d(64, 64, 3, padding=1)
        self.conv3_first = nn.Conv2d(64, 128, 3, 2, padding=1)
        self.conv3 = nn.Conv2d(128, 128, 3, padding=1)
        self.conv4_first = nn.Conv2d(128, 256, 3, 2, padding=1)
        self.conv4 = nn.Conv2d(256, 256, 3, padding=1)
        self.conv5_first = nn.Conv2d(256, 512, 3, 2, padding=1)
        self.conv5 = nn.Conv2d(512, 512, 3, padding=1)

        self.maxpool = nn.MaxPool2d(3, 2, 1)
        self.avgpool = nn.AvgPool2d(3, 2, 1)

        self.flatten = nn.Flatten()

        self.bn1 = nn.BatchNorm2d(64)
        self.bn2 = nn.BatchNorm2d(128)
        self.bn3 = nn.BatchNorm2d(256)
        self.bn4 = nn.BatchNorm2d(512)

        self.fc1 = nn.Linear(512, 10)

    def forward(self, x):
        x = F.relu(self.bn1(self.conv1(x)))
        x = F.relu(self.maxpool(x))
        x = F.relu(self.bn1(self.conv2(x)))
        x = F.relu(self.bn1(self.conv2(x)))
        x = F.relu(self.bn1(self.conv2(x)))
        x = F.relu(self.bn1(self.conv2(x)))
        x = F.relu(self.bn1(self.conv2(x)))
        x = F.relu(self.bn1(self.conv2(x)))
        x = F.relu(self.bn2(self.conv3_first(x)))
        x = F.relu(self.bn2(self.conv3(x)))
        x = F.relu(self.bn2(self.conv3(x)))
        x = F.relu(self.bn2(self.conv3(x)))
        x = F.relu(self.bn2(self.conv3(x)))
        x = F.relu(self.bn2(self.conv3(x)))
        x = F.relu(self.bn2(self.conv3(x)))
        x = F.relu(self.bn2(self.conv3(x)))
        x = F.relu(self.bn3(self.conv4_first(x)))
        x = F.relu(self.bn3(self.conv4(x)))
        x = F.relu(self.bn3(self.conv4(x)))
        x = F.relu(self.bn3(self.conv4(x)))
        x = F.relu(self.bn3(self.conv4(x)))
        x = F.relu(self.bn3(self.conv4(x)))
        x = F.relu(self.bn3(self.conv4(x)))
        x = F.relu(self.bn3(self.conv4(x)))
        x = F.relu(self.bn3(self.conv4(x)))
        x = F.relu(self.bn3(self.conv4(x)))
        x = F.relu(self.bn3(self.conv4(x)))
        x = F.relu(self.bn3(self.conv4(x)))
        x = F.relu(self.bn4(self.conv5_first(x)))
        x = F.relu(self.bn4(self.conv5(x)))
        x = F.relu(self.bn4(self.conv5(x)))
        x = F.relu(self.bn4(self.conv5(x)))
        x = F.relu(self.bn4(self.conv5(x)))
        x = F.relu(self.bn4(self.conv5(x)))
        x = F.relu(self.avgpool(x))
        x = self.flatten(x)
        x = self.fc1(x)
        return x


###############################
#  score - 0.7387             #
###############################
class ResNet34Layer(nn.Module):

    def __init__(self):
        super().__init__()

        self.conv1 = nn.Conv2d(3, 64, 7, 2, padding=1)
        self.conv2 = nn.Conv2d(64, 64, 3, padding=1)
        self.conv3_first = nn.Conv2d(64, 128, 3, 2, padding=1)
        self.conv3 = nn.Conv2d(128, 128, 3, padding=1)
        self.conv4_first = nn.Conv2d(128, 256, 3, 2, padding=1)
        self.conv4 = nn.Conv2d(256, 256, 3, padding=1)
        self.conv5_first = nn.Conv2d(256, 512, 3, 2, padding=1)
        self.conv5 = nn.Conv2d(512, 512, 3, padding=1)

        self.maxpool = nn.MaxPool2d(3, 2, 1)
        self.avgpool = nn.AvgPool2d(3, 2, 1)

        self.flatten = nn.Flatten()

        self.bn1 = nn.BatchNorm2d(64)
        self.bn2 = nn.BatchNorm2d(128)
        self.bn3 = nn.BatchNorm2d(256)
        self.bn4 = nn.BatchNorm2d(512)

        self.fc1 = nn.Linear(512, 10)

    def forward(self, x):
        x = F.relu(self.bn1(self.conv1(x)))
        x = F.relu(self.maxpool(x))
        identity = x
        x = F.relu(self.bn1(self.conv2(x)))
        x = F.relu(self.bn1(self.conv2(x)) + identity)
        identity = x
        x = F.relu(self.bn1(self.conv2(x)))
        x = F.relu(self.bn1(self.conv2(x)) + identity)
        identity = x
        x = F.relu(self.bn1(self.conv2(x)))
        x = F.relu(self.bn1(self.conv2(x)) + identity)
        x = F.relu(self.bn2(self.conv3_first(x)))
        identity = x
        x = F.relu(self.bn2(self.conv3(x)))
        x = F.relu(self.bn2(self.conv3(x)) + identity)
        identity = x
        x = F.relu(self.bn2(self.conv3(x)))
        x = F.relu(self.bn2(self.conv3(x)) + identity)
        identity = x
        x = F.relu(self.bn2(self.conv3(x)))
        x = F.relu(self.bn2(self.conv3(x)) + identity)
        x = F.relu(self.bn2(self.conv3(x)))
        x = F.relu(self.bn3(self.conv4_first(x)))
        identity = x
        x = F.relu(self.bn3(self.conv4(x)))
        x = F.relu(self.bn3(self.conv4(x)) + identity)
        identity = x
        x = F.relu(self.bn3(self.conv4(x)))
        x = F.relu(self.bn3(self.conv4(x)) + identity)
        identity = x
        x = F.relu(self.bn3(self.conv4(x)))
        x = F.relu(self.bn3(self.conv4(x)) + identity)
        identity = x
        x = F.relu(self.bn3(self.conv4(x)))
        x = F.relu(self.bn3(self.conv4(x)) + identity)
        identity = x
        x = F.relu(self.bn3(self.conv4(x)))
        x = F.relu(self.bn3(self.conv4(x)) + identity)
        x = F.relu(self.bn3(self.conv4(x)))
        x = F.relu(self.bn4(self.conv5_first(x)))
        identity = x
        x = F.relu(self.bn4(self.conv5(x)))
        x = F.relu(self.bn4(self.conv5(x)) + identity)
        identity = x
        x = F.relu(self.bn4(self.conv5(x)))
        x = F.relu(self.bn4(self.conv5(x)) + identity)
        x = F.relu(self.bn4(self.conv5(x)))
        x = F.relu(self.avgpool(x))
        x = self.flatten(x)
        x = self.fc1(x)
        return x


# model = Net().to(device)
model = PlainResNet().to(device)
# model = PlainResNet34Layer().to(device)
loss_function = nn.CrossEntropyLoss()
loss_track = []


optimizer = torch.optim.Adam(model.parameters(), lr=0.0001)


epochs = 1000

for i in range(epochs):
    ix = torch.randint(0, X_train.shape[0], (32, ))
    y_pred = model(X_train[ix])
    loss = loss_function(y_pred, y_train[ix])

    loss_track.append(loss)

    optimizer.zero_grad()
    loss.backward()
    optimizer.step()

    if i % 200 == 0:
        print(f"epoch: {i}, loss={loss.item()}")


plt.plot([t.cpu().detach().item() for t in loss_track])


predicated_val = torch.argmax(model(X_val), 1)


print(predicated_val)
print(y_val)


accuracy_score(y_val.cpu(), predicated_val.cpu())






